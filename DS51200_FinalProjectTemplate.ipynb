{
 "cells": [
  {
   "cell_type": "markdown",
   "id": "83a938bf-19b7-469b-8fcf-05852f5da6df",
   "metadata": {},
   "source": [
    "# Final Project Report\n",
    "\n",
    "* Class: DS 5100\n",
    "* Student Name: Hai Liu\n",
    "* Student Net ID: hl9h\n",
    "* This URL: \n",
    "  https://github.com/HaiL-DS/DS5100-finalproject/blob/main/DS51200_FinalProjectTemplate.ipynb"
   ]
  },
  {
   "cell_type": "markdown",
   "id": "acf756c1-ecaa-41dc-b6ca-d566eb94560b",
   "metadata": {},
   "source": [
    "# Instructions\n",
    "\n",
    "Follow the instructions in the Final Project isntructions notebook and put evidence of your work in this notebook.\n",
    "\n",
    "Total points for each subsection under **Deliverables** and **Scenarios** are given in parentheses.\n",
    "\n",
    "Breakdowns of points within subsections are specified within subsection instructions as bulleted lists.\n",
    "\n",
    "This project is worth **50 points**."
   ]
  },
  {
   "cell_type": "markdown",
   "id": "89dc7a32-f682-4402-8c1e-b6ccdb3e0e39",
   "metadata": {},
   "source": [
    "# Deliverables"
   ]
  },
  {
   "cell_type": "markdown",
   "id": "d32cb273-9a40-4909-a7ce-51f6e4958d3c",
   "metadata": {},
   "source": [
    "## The Monte Carlo Module (10)\n",
    "\n",
    "- URL included, appropriately named (1).\n",
    "- Includes all three specified classes (3).\n",
    "- Includes at least all 12 specified methods (6; .5 each)."
   ]
  },
  {
   "cell_type": "code",
   "execution_count": null,
   "id": "c7a2bd81-5752-450a-bd26-b83464392a5f",
   "metadata": {},
   "outputs": [],
   "source": [
    "Put the URL to your GitHub repo here.\n",
    "\n",
    "Repo URL: https://github.com/HaiL-DS/DS5100-finalproject"
   ]
  },
  {
   "cell_type": "markdown",
   "id": "162370fb-3729-4c85-b040-8c25b2c966d2",
   "metadata": {},
   "source": [
    "Paste a copyy of your module here.\n",
    "\n",
    "NOTE: Paste as text, not as code. Use triple backticks to wrap your code blocks."
   ]
  },
  {
   "cell_type": "code",
   "execution_count": null,
   "id": "e59e8e8f-7667-4359-9b22-9ff7bb33beac",
   "metadata": {},
   "outputs": [],
   "source": [
    "# A code block with your classes.\n",
    "```\n",
    "import numpy as np\n",
    "import pandas as pd\n",
    "\n",
    "class Die:\n",
    "    \"\"\"\n",
    "    This is a “Die” class that can be any discrete random variable associated with a stochastic process, \n",
    "    such as using a deck of cards, flipping a coin, rolling an actual die, or speaking a language.\n",
    "    \"\"\"\n",
    "    \n",
    "    def __init__(self, sides=np.arange(1,7)):\n",
    "        \"\"\"Initalize the object by defining the number of faces and the default die weights.\n",
    "           The initalizer takes a single argument of a NumPy array as the number of faces.\n",
    "           The NumPy array’s data type may be strings or numbers, but the values must be distinct.\n",
    "           By default, it internally initializes a die with 6 faces and weights of 1.0 for each face.\n",
    "        \"\"\"\n",
    "        \n",
    "        if not isinstance(sides, np.ndarray):     #check if argument is a NumPy array\n",
    "            raise TypeError(\"Die sides must be a NumPy array!\")\n",
    "        elif len(sides) != len(set(sides)):       #check if array values are distinct \n",
    "            raise ValueError(\"Die side values must be distinct!\")            \n",
    "        else:\n",
    "            self.sides = sides\n",
    "            \n",
    "        self.weights = np.ones(len(sides))\n",
    "        self.die = pd.DataFrame({'sides': self.sides, 'weights': self.weights}).set_index('sides')\n",
    "        \n",
    "    def change_weight(self, face, weight):\n",
    "        \"\"\"A method to change the weight of a single side or face.\n",
    "           It takes two arguments: the face value to be changed and its new weight.\n",
    "        \"\"\"\n",
    "        \n",
    "        if face not in list(self.die.index):     #check if the face passed is valid\n",
    "            raise IndexError(\"This side of the die does not exist!\")\n",
    "        elif not isinstance(weight, (int, float)):     #check if the weight is a valid value type (integer or float)\n",
    "            raise TypeError(\"Weight can only be numeric (integer or float)!\")\n",
    "        else:\n",
    "            self.die.weights[self.die.index == face] = weight\n",
    "            \n",
    "    def roll_die(self, n=1):\n",
    "        \"\"\"A method to roll the die one or more times. Returning a Python list of outcomes\n",
    "           It takes a parameter of how many times the die is to be rolled (defaults to 1).\n",
    "           The function returns a Python list of outcomes (from random sampling with replacement by weights).\n",
    "        \"\"\"\n",
    "        \n",
    "        return list(pd.Series(self.die.index).sample(n, replace=True, weights=list(self.die.weights)).values)\n",
    "    \n",
    "    def die_status(self):\n",
    "        \"\"\"A method to show the die’s current state. It returns a copy of the private die data frame.\"\"\"\n",
    "        \n",
    "        return self.die.copy()\n",
    "        \n",
    "        \n",
    "class Game:\n",
    "    \"\"\"\n",
    "    This is a \"Game\" class that consists of rolling of one or more similar dice (Die objects) one or more times.\n",
    "    The class initalizer takes a single parameter, a list of already instantiated similar dice.\n",
    "    The Game objects have a behavior to play a game, i.e. to roll all of the dice a given number of times, and\n",
    "    only keep the results of their most recent play.\n",
    "    \"\"\"\n",
    "    \n",
    "    def __init__(self, dicelist):\n",
    "        \"\"\"\n",
    "        Game initializer that takes a single parameter, a list of already instantiated similar dice.\n",
    "        \"\"\"\n",
    "        \n",
    "        for d in dicelist:\n",
    "            if not isinstance(d, Die):    #check if parameter elements are Die objects                          \n",
    "                raise TypeError(\"The list must contain Die objects!\")    \n",
    "            elif list(d.die.index) != list(dicelist[0].die.index):   #check if all Die objects have the same faces\n",
    "                raise ValueError(\"Dice must have the same faces!\") \n",
    "                \n",
    "        self.dicelist = dicelist \n",
    "    \n",
    "    def play(self, rolls):\n",
    "        \"\"\"\n",
    "        A play method that takes an integer parameter to specify how many times the dice should be rolled.\n",
    "        Results are saved to a private data frame in wide format, with the roll number as a named index, \n",
    "        columns for each die number (dice list index as column names), and the face rolled in that instance in each cell.\n",
    "        \"\"\"\n",
    "        \n",
    "        self.result = pd.DataFrame({'RollNo.': list(range(1, rolls+1))})\n",
    "        for i in range(len(self.dicelist)):\n",
    "            self.result[i+1] = self.dicelist[i].roll_die(rolls)\n",
    "         \n",
    "        self.resultdf = self.result.set_index(\"RollNo.\")\n",
    "    \n",
    "    def show_result(self, form=\"wide\"):\n",
    "        \"\"\"\n",
    "        A method to show the user the results of the most recent play. It takes a parameter to return the data frame\n",
    "        in \"narrow\" or \"wide\" form (defaults to \"wide\" for the form argument).\n",
    "        \"\"\"\n",
    "        \n",
    "        if form == \"wide\":\n",
    "            return self.resultdf.copy()\n",
    "        elif form == \"narrow\":\n",
    "            narrowed = self.resultdf.copy().stack().to_frame('FaceRolled')\n",
    "            narrowed.index.names = ['RollNo.', 'DieNo.']\n",
    "            return narrowed\n",
    "        else:\n",
    "            raise ValueError(\"Passed an invalid option for the form of narrow or wide!\")\n",
    "            \n",
    "    \n",
    "class Analyzer:\n",
    "    \"\"\"\n",
    "    An Analyzer object takes the results of a single game and computes various descriptive statistical properties about it.\n",
    "    \"\"\"\n",
    "    \n",
    "    def __init__(self, game):\n",
    "        \"\"\"\n",
    "        Analyzer initializer that takes a game object as its input argument.\n",
    "        \"\"\"\n",
    "        \n",
    "        if not isinstance(game, Game):    #check if argument is a Game objects   \n",
    "            raise ValueError(\"The argument must be a Game object!\")  \n",
    "        self.game = game\n",
    "    \n",
    "    def jackpot(self):\n",
    "        \"\"\"\n",
    "        A jackpot method that computes how many times the game resulted in all faces being the same.\n",
    "        It returns an integer as the number of jackpots.\n",
    "        \"\"\"\n",
    "        \n",
    "        gameresult = self.game.show_result(form = \"wide\")\n",
    "        jps = 0\n",
    "        for roll in range(len(gameresult)):\n",
    "            if len(set(list(gameresult.iloc[roll, :]))) == 1:\n",
    "                jps += 1\n",
    "                \n",
    "        return jps\n",
    "            \n",
    "    def face_count(self):\n",
    "        \"\"\"\n",
    "        A face counts per roll method that computes how many times a given face is rolled in each event.\n",
    "        It returns a data frame of results.\n",
    "        \"\"\"\n",
    "        \n",
    "        gameresultnarrow = self.game.show_result(form = \"narrow\")\n",
    "        face_count = gameresultnarrow.reset_index().groupby(\"RollNo.\")[\"FaceRolled\"].value_counts().to_frame(\"Counts\").unstack(\"FaceRolled\")\n",
    "        return face_count.fillna(0)\n",
    "    \n",
    "\n",
    "    def combo_count(self):\n",
    "        \"\"\"\n",
    "        A combo count method that computes the distinct combinations of faces rolled, along with their counts.\n",
    "        It returns a data frame of results.\n",
    "        \"\"\"\n",
    "        \n",
    "        gameresultnarrow = self.game.show_result(form = \"narrow\")\n",
    "        facecombos = gameresultnarrow.groupby('RollNo.')[\"FaceRolled\"].apply(list).to_frame(\"FaceCombos\")[\"FaceCombos\"].apply(sorted).reset_index()\n",
    "        return facecombos[\"FaceCombos\"].value_counts().to_frame('ComboCounts').sort_index()\n",
    "    \n",
    "\n",
    "    def permu_count(self):\n",
    "        \"\"\"\n",
    "        An permutation count method that computes the distinct permutations of faces rolled, along with their counts.\n",
    "        It returns a data frame of results.\n",
    "        \"\"\"\n",
    "        \n",
    "        gameresultnarrow = self.game.show_result(form = \"narrow\")\n",
    "        facepermus = gameresultnarrow.groupby('RollNo.')[\"FaceRolled\"].apply(list).to_frame(\"FacePermutations\").reset_index()\n",
    "        return facepermus[\"FacePermutations\"].value_counts().to_frame(\"PermuCounts\").sort_index()\n",
    "    \n",
    "\n",
    "```\n"
   ]
  },
  {
   "cell_type": "markdown",
   "id": "6377727a-8f0a-491e-9f1c-d9dc225edd35",
   "metadata": {},
   "source": [
    "## Unitest Module (2)\n",
    "\n",
    "Paste a copy of your test module below.\n",
    "\n",
    "NOTE: Paste as text, not as code. Use triple backticks to wrap your code blocks.\n",
    "\n",
    "- All methods have at least one test method (1).\n",
    "- Each method employs one of Unittest's Assert methods (1)."
   ]
  },
  {
   "cell_type": "code",
   "execution_count": null,
   "id": "eeab82e5-0d41-413e-86f2-4297782a2773",
   "metadata": {},
   "outputs": [],
   "source": [
    "# A code block with your test code.\n",
    "```\n",
    "import unittest\n",
    "import numpy as np\n",
    "import pandas as pd\n",
    "from montecarlo.montecarlo import Die, Game, Analyzer\n",
    "\n",
    "\n",
    "class MontecarloTestSuite(unittest.TestCase):\n",
    "   \n",
    "    def test_01_Die_init_if_error_raised(self): \n",
    "        \"\"\"\n",
    "        Test if Die's __init__() method successfully raises TypeError or ValueError\n",
    "        if the input parameter is not a NumPy array or contains nondistinct values.\n",
    "        \"\"\"\n",
    "        self.assertRaises(TypeError, Die, [1,2,3,4,5,6])   #check if TypeError raised\n",
    "        self.assertRaises(ValueError, Die, np.array([1,1,1,4,5,6]))   #check if ValueError raised\n",
    "    \n",
    "    def test_02_Die_change_weight(self): \n",
    "        \"\"\"\n",
    "        Test if change_weight() method successfully changes the weight of a specific\n",
    "        face of a die.\n",
    "        \"\"\"\n",
    "        test_die = Die()\n",
    "        test_die.change_weight(6, 9.0)  #change the weight of face 6 from 1.0 to 9.0.\n",
    "        expected = 9.0\n",
    "        self.assertEqual(test_die.die.weights[6], expected)     \n",
    "                                 \n",
    "    def test_03_Die_roll_die(self): \n",
    "        \"\"\"\n",
    "        Test if roll_die() method successfully genereates Python list of correct number of elements as outcomes.\n",
    "        \"\"\"\n",
    "        test_die = Die()\n",
    "        actual = test_die.roll_die(n=5)  #roll a die five times.\n",
    "        expected = 5\n",
    "        message = \"roll_die() function did not return a list.\"\n",
    "        self.assertTrue(isinstance(actual, list), message)   #check if the function returns a list\n",
    "        self.assertEqual(len(actual), expected)   #check if the function returns correct number of results\n",
    "        \n",
    "    def test_04_Die_roll_die(self): \n",
    "        \"\"\"\n",
    "        Test if roll_die() method successfully genereates Python list of correct number of elements as outcomes.\n",
    "        \"\"\"\n",
    "        test_die = Die()\n",
    "        actual = test_die.roll_die(n=5)  #roll a die five times.\n",
    "        expected = 5\n",
    "        message = \"roll_die() function did not return a list.\"\n",
    "        self.assertTrue(isinstance(actual, list), message)   #check if the function returns a list\n",
    "        self.assertEqual(len(actual), expected)   #check if the function returns correct number of results    \n",
    "                                        \n",
    "    def test_05_Die_die_status(self): \n",
    "        \"\"\"\n",
    "        Test if die_status() method successfully returns a Python Pandas DataFram showing the die’s current state.\n",
    "        \"\"\"\n",
    "        test_die = Die()\n",
    "        actual = test_die.die_status()\n",
    "        message = \"die_status() function did not return a data frame.\"\n",
    "        self.assertTrue(isinstance(actual, pd.DataFrame), message)                               \n",
    "    \n",
    "    \n",
    "    def test_06_Game_init_if_error_raised(self): \n",
    "        \"\"\"\n",
    "        Test if Game's __init__() method successfully raises TypeError or ValueError if the input parameter is not\n",
    "        a list of instantiated die objects or not all of the dice have the same faces.\n",
    "        \"\"\"\n",
    "        test_die1 = Die()  #instantiate three dice, first two dice have 6 faces, third one has 16.\n",
    "        test_die2 = Die()\n",
    "        test_die3 = Die(sides=np.arange(1,17))     \n",
    "        self.assertRaises(TypeError, Game, [\"Die1\", \"Die2\", \"Die3\"])   #check if TypeError raised\n",
    "        self.assertRaises(ValueError, Game, [test_die1, test_die2, test_die3])   #check if ValueError raised.\n",
    "        \n",
    "    def test_07_Game_play(self): \n",
    "        \"\"\"\n",
    "        Test if play() method successfully returns a Python Pandas DataFram showing correct game results.\n",
    "        \"\"\"\n",
    "        test_die1 = Die()  #instantiate three dice\n",
    "        test_die2 = Die()\n",
    "        test_die3 = Die()\n",
    "        test_game = Game([test_die1, test_die2, test_die3])  #instantiate a game object\n",
    "        test_game.play(10)  #roll the three dice 10 times\n",
    "        actual = test_game.resultdf\n",
    "        expected_rolls = 10\n",
    "        expected_dice = 3\n",
    "        self.assertEqual(len(actual), expected_rolls)   #check if all roll reuslts are stored\n",
    "        self.assertEqual(len(actual.columns), expected_dice)  #check if all die reuslts are stored                              \n",
    "                                 \n",
    "    def test_08_Game_show_result(self): \n",
    "        \"\"\"\n",
    "        Test if show_result() method returns correct forms of result data frames.\n",
    "        \"\"\"\n",
    "        test_die1 = Die()  #instantiate three dice\n",
    "        test_die2 = Die()\n",
    "        test_die3 = Die()\n",
    "        test_game = Game([test_die1, test_die2, test_die3])  #instantiate a game object\n",
    "        test_game.play(10)  #roll the three dice 10 times\n",
    "        actual_wide = test_game.show_result(form=\"wide\")\n",
    "        actual_narrow = test_game.show_result(form=\"narrow\")\n",
    "        message = \"show_result() function did not return a data frame.\"\n",
    "        self.assertTrue(isinstance(actual_wide, pd.DataFrame), message) \n",
    "        self.assertTrue(isinstance(actual_narrow, pd.DataFrame), message)           \n",
    "        self.assertRaises(ValueError, test_game.show_result, \" \")    #check if ValueError raised\n",
    "  \n",
    "\n",
    "    def test_09_Analyzer_init_if_error_raised(self): \n",
    "        \"\"\"\n",
    "        Test if Analyzer's __init__() method successfully raises a ValueError\n",
    "        if the passed value is not a Game object.\n",
    "        \"\"\"\n",
    "        self.assertRaises(ValueError, Analyzer, \"Game\")   #check if ValueError raised   \n",
    "        \n",
    "    def test_10_Analyzer_jackpot(self): \n",
    "        \"\"\"\n",
    "        Test if jackpot() method returns a integer.\n",
    "        \"\"\"\n",
    "        test_die1 = Die()  #instantiate three dice\n",
    "        test_die2 = Die()\n",
    "        test_die3 = Die()\n",
    "        test_game = Game([test_die1, test_die2, test_die3])  #instantiate a Game object\n",
    "        test_game.play(10)  #roll the three dice 10 times\n",
    "        test_analyzer1 = Analyzer(test_game)  #instantiate an Analyzer object                         \n",
    "        actual = test_analyzer1.jackpot()  \n",
    "        message = \"jackpot() function did not return an integer.\"\n",
    "        self.assertTrue(isinstance(actual, int), message)                         \n",
    "\n",
    "    def test_11_Analyzer_face_count(self): \n",
    "        \"\"\"\n",
    "        Test if face_count() method returns a data frame with correct structure.\n",
    "        \"\"\"\n",
    "        test_die1 = Die()  #instantiate three dice\n",
    "        test_die2 = Die()\n",
    "        test_die3 = Die()\n",
    "        test_game = Game([test_die1, test_die2, test_die3])  #instantiate a Game object\n",
    "        test_game.play(10)  #roll the three dice 10 times\n",
    "        test_analyzer1 = Analyzer(test_game)  #instantiate an Analyzer object                         \n",
    "        actual = test_analyzer1.face_count()\n",
    "        expected_rolls = 10\n",
    "        expected_faces = len(test_die1.die.index)                         \n",
    "        self.assertEqual(len(actual), expected_rolls)   #check if all roll events are stored                        \n",
    "        self.assertEqual(len(actual.columns), expected_faces)  #check if all roll faces are stored                       \n",
    "                                 \n",
    "                                                                                               \n",
    "    def test_12_Analyzer_combo_count(self):\n",
    "        \"\"\"\n",
    "        Test if combo_count() method returns a data frame with correct structure.\n",
    "        \"\"\"\n",
    "        test_die1 = Die()  #instantiate three dice\n",
    "        test_die2 = Die()\n",
    "        test_die3 = Die()\n",
    "        test_game = Game([test_die1, test_die2, test_die3])  #instantiate a Game object\n",
    "        test_game.play(10)  #roll the three dice 10 times\n",
    "        test_analyzer1 = Analyzer(test_game)  #instantiate an Analyzer object                         \n",
    "        actual = test_analyzer1.combo_count()\n",
    "        message = \"combo_count() function did not return a data frame.\"\n",
    "        self.assertTrue(isinstance(actual, pd.DataFrame), message)  #check if data frame returned\n",
    "\n",
    "    \n",
    "    def test_13_Analyzer_permu_count(self):\n",
    "        \"\"\"\n",
    "        Test if combo_count() method returns a data frame with correct structure.\n",
    "        \"\"\"\n",
    "        test_die1 = Die()  #instantiate three dice\n",
    "        test_die2 = Die()\n",
    "        test_die3 = Die()\n",
    "        test_game = Game([test_die1, test_die2, test_die3])  #instantiate a Game object\n",
    "        test_game.play(10)  #roll the three dice 10 times\n",
    "        test_analyzer1 = Analyzer(test_game)  #instantiate an Analyzer object                         \n",
    "        actual = test_analyzer1.permu_count()\n",
    "        message = \"permu_count() function did not return a data frame.\"\n",
    "        self.assertTrue(isinstance(actual, pd.DataFrame), message)  #check if data frame returned \n",
    "         \n",
    " \n",
    "                                 \n",
    "if __name__ == '__main__':\n",
    "    \n",
    "    unittest.main(verbosity=3)\n",
    "```\n"
   ]
  },
  {
   "cell_type": "markdown",
   "id": "3e058d03-29bc-408f-b36d-0605b4f4b8c0",
   "metadata": {
    "tags": []
   },
   "source": [
    "## Unittest Results (3)\n",
    "\n",
    "Put a copy of the results of running your tests from the command line here.\n",
    "\n",
    "Again, paste as text using triple backticks.\n",
    "\n",
    "- All 12 specified methods return OK (3; .25 each)."
   ]
  },
  {
   "cell_type": "code",
   "execution_count": null,
   "id": "42a1eb5f-9d6b-46f5-9be4-bdaf1f07fb5e",
   "metadata": {
    "tags": []
   },
   "outputs": [],
   "source": [
    "# A text block with the output of a successful test.\n",
    "```\n",
    "-bash-4.4$ python montecarlo_test.py\n",
    "Welcome to Hai's package of montecarlo!\n",
    "test_01_Die_init_if_error_raised (__main__.MontecarloTestSuite.test_01_Die_init_if_error_raised)\n",
    "Test if Die's __init__() method successfully raises TypeError or ValueError ... ok\n",
    "test_02_Die_change_weight (__main__.MontecarloTestSuite.test_02_Die_change_weight)\n",
    "Test if change_weight() method successfully changes the weight of a specific ... ok\n",
    "test_03_Die_roll_die (__main__.MontecarloTestSuite.test_03_Die_roll_die)\n",
    "Test if roll_die() method successfully genereates Python list of correct number of elements as outcomes. ... ok\n",
    "test_04_Die_roll_die (__main__.MontecarloTestSuite.test_04_Die_roll_die)\n",
    "Test if roll_die() method successfully genereates Python list of correct number of elements as outcomes. ... ok\n",
    "test_05_Die_die_status (__main__.MontecarloTestSuite.test_05_Die_die_status)\n",
    "Test if die_status() method successfully returns a Python Pandas DataFram showing the die’s current state. ... ok\n",
    "test_06_Game_init_if_error_raised (__main__.MontecarloTestSuite.test_06_Game_init_if_error_raised)\n",
    "Test if Game's __init__() method successfully raises TypeError or ValueError if the input parameter is not ... ok\n",
    "test_07_Game_play (__main__.MontecarloTestSuite.test_07_Game_play)\n",
    "Test if play() method successfully returns a Python Pandas DataFram showing correct game results. ... ok\n",
    "test_08_Game_show_result (__main__.MontecarloTestSuite.test_08_Game_show_result)\n",
    "Test if show_result() method returns correct forms of result data frames. ... ok\n",
    "test_09_Analyzer_init_if_error_raised (__main__.MontecarloTestSuite.test_09_Analyzer_init_if_error_raised)\n",
    "Test if Analyzer's __init__() method successfully raises a ValueError ... ok\n",
    "test_10_Analyzer_jackpot (__main__.MontecarloTestSuite.test_10_Analyzer_jackpot)\n",
    "Test if jackpot() method returns a integer. ... ok\n",
    "test_11_Analyzer_face_count (__main__.MontecarloTestSuite.test_11_Analyzer_face_count)\n",
    "Test if face_count() method returns a data frame with correct structure. ... ok\n",
    "test_12_Analyzer_combo_count (__main__.MontecarloTestSuite.test_12_Analyzer_combo_count)\n",
    "Test if combo_count() method returns a data frame with correct structure. ... ok\n",
    "test_13_Analyzer_permu_count (__main__.MontecarloTestSuite.test_13_Analyzer_permu_count)\n",
    "Test if combo_count() method returns a data frame with correct structure. ... ok\n",
    "\n",
    "----------------------------------------------------------------------\n",
    "Ran 13 tests in 0.033s\n",
    "\n",
    "OK\n",
    "```"
   ]
  },
  {
   "cell_type": "markdown",
   "id": "d9ffe8c5-eb2f-4ad1-af76-a46550e4c7ac",
   "metadata": {},
   "source": [
    "## Import (1)\n",
    "\n",
    "Import your module here. This import should refer to the code in your package directory.\n",
    "\n",
    "- Module successuflly imported (1)."
   ]
  },
  {
   "cell_type": "code",
   "execution_count": 1,
   "id": "a05dffb3-e6d6-4f78-9df4-5abd0cf74ca9",
   "metadata": {
    "tags": []
   },
   "outputs": [
    {
     "name": "stdout",
     "output_type": "stream",
     "text": [
      "Welcome to Hai's package of montecarlo!\n"
     ]
    },
    {
     "data": {
      "text/plain": [
       "[2, 5, 4, 6, 3, 3]"
      ]
     },
     "execution_count": 1,
     "metadata": {},
     "output_type": "execute_result"
    }
   ],
   "source": [
    "# e.g. import montecarlo.montecarlo \n",
    "\n",
    "from montecarlo import montecarlo\n",
    "\n",
    "die1 = montecarlo.Die()\n",
    "die1.roll_die(6)"
   ]
  },
  {
   "cell_type": "markdown",
   "id": "f30c4842-65b1-4556-98b6-3fe1a07e1371",
   "metadata": {},
   "source": [
    "## Help Docs (4)\n",
    "\n",
    "Show your docstring documentation by applying `help()` to your imported module.\n",
    "\n",
    "- All methods have a docstring (3; .25 each).\n",
    "- All classes have a docstring (1; .33 each)."
   ]
  },
  {
   "cell_type": "code",
   "execution_count": 2,
   "id": "bf4fbf1f-9885-471c-a0a6-e9ca90e160de",
   "metadata": {
    "tags": []
   },
   "outputs": [
    {
     "name": "stdout",
     "output_type": "stream",
     "text": [
      "Help on module montecarlo.montecarlo in montecarlo:\n",
      "\n",
      "NAME\n",
      "    montecarlo.montecarlo\n",
      "\n",
      "CLASSES\n",
      "    builtins.object\n",
      "        Analyzer\n",
      "        Die\n",
      "        Game\n",
      "    \n",
      "    class Analyzer(builtins.object)\n",
      "     |  Analyzer(game)\n",
      "     |  \n",
      "     |  An Analyzer object takes the results of a single game and computes various descriptive statistical properties about it.\n",
      "     |  \n",
      "     |  Methods defined here:\n",
      "     |  \n",
      "     |  __init__(self, game)\n",
      "     |      Analyzer initializer that takes a game object as its input argument.\n",
      "     |  \n",
      "     |  combo_count(self)\n",
      "     |      A combo count method that computes the distinct combinations of faces rolled, along with their counts.\n",
      "     |      It returns a data frame of results.\n",
      "     |  \n",
      "     |  face_count(self)\n",
      "     |      A face counts per roll method that computes how many times a given face is rolled in each event.\n",
      "     |      It returns a data frame of results.\n",
      "     |  \n",
      "     |  jackpot(self)\n",
      "     |      A jackpot method that computes how many times the game resulted in all faces being the same.\n",
      "     |      It returns an integer as the number of jackpots.\n",
      "     |  \n",
      "     |  permu_count(self)\n",
      "     |      An permutation count method that computes the distinct permutations of faces rolled, along with their counts.\n",
      "     |      It returns a data frame of results.\n",
      "     |  \n",
      "     |  ----------------------------------------------------------------------\n",
      "     |  Data descriptors defined here:\n",
      "     |  \n",
      "     |  __dict__\n",
      "     |      dictionary for instance variables (if defined)\n",
      "     |  \n",
      "     |  __weakref__\n",
      "     |      list of weak references to the object (if defined)\n",
      "    \n",
      "    class Die(builtins.object)\n",
      "     |  Die(sides=array([1, 2, 3, 4, 5, 6]))\n",
      "     |  \n",
      "     |  This is a “Die” class that can be any discrete random variable associated with a stochastic process, \n",
      "     |  such as using a deck of cards, flipping a coin, rolling an actual die, or speaking a language.\n",
      "     |  \n",
      "     |  Methods defined here:\n",
      "     |  \n",
      "     |  __init__(self, sides=array([1, 2, 3, 4, 5, 6]))\n",
      "     |      Initalize the object by defining the number of faces and the default die weights.\n",
      "     |      The initalizer takes a single argument of a NumPy array as the number of faces.\n",
      "     |      The NumPy array’s data type may be strings or numbers, but the values must be distinct.\n",
      "     |      By default, it internally initializes a die with 6 faces and weights of 1.0 for each face.\n",
      "     |  \n",
      "     |  change_weight(self, face, weight)\n",
      "     |      A method to change the weight of a single side or face.\n",
      "     |      It takes two arguments: the face value to be changed and its new weight.\n",
      "     |  \n",
      "     |  die_status(self)\n",
      "     |      A method to show the die’s current state. It returns a copy of the private die data frame.\n",
      "     |  \n",
      "     |  roll_die(self, n=1)\n",
      "     |      A method to roll the die one or more times. Returning a Python list of outcomes\n",
      "     |      It takes a parameter of how many times the die is to be rolled (defaults to 1).\n",
      "     |      The function returns a Python list of outcomes (from random sampling with replacement by weights).\n",
      "     |  \n",
      "     |  ----------------------------------------------------------------------\n",
      "     |  Data descriptors defined here:\n",
      "     |  \n",
      "     |  __dict__\n",
      "     |      dictionary for instance variables (if defined)\n",
      "     |  \n",
      "     |  __weakref__\n",
      "     |      list of weak references to the object (if defined)\n",
      "    \n",
      "    class Game(builtins.object)\n",
      "     |  Game(dicelist)\n",
      "     |  \n",
      "     |  This is a \"Game\" class that consists of rolling of one or more similar dice (Die objects) one or more times.\n",
      "     |  The class initalizer takes a single parameter, a list of already instantiated similar dice.\n",
      "     |  The Game objects have a behavior to play a game, i.e. to roll all of the dice a given number of times, and\n",
      "     |  only keep the results of their most recent play.\n",
      "     |  \n",
      "     |  Methods defined here:\n",
      "     |  \n",
      "     |  __init__(self, dicelist)\n",
      "     |      Game initializer that takes a single parameter, a list of already instantiated similar dice.\n",
      "     |  \n",
      "     |  play(self, rolls)\n",
      "     |      A play method that takes an integer parameter to specify how many times the dice should be rolled.\n",
      "     |      Results are saved to a private data frame in wide format, with the roll number as a named index, \n",
      "     |      columns for each die number (dice list index as column names), and the face rolled in that instance in each cell.\n",
      "     |  \n",
      "     |  show_result(self, form='wide')\n",
      "     |      A method to show the user the results of the most recent play. It takes a parameter to return the data frame\n",
      "     |      in \"narrow\" or \"wide\" form (defaults to \"wide\" for the form argument).\n",
      "     |  \n",
      "     |  ----------------------------------------------------------------------\n",
      "     |  Data descriptors defined here:\n",
      "     |  \n",
      "     |  __dict__\n",
      "     |      dictionary for instance variables (if defined)\n",
      "     |  \n",
      "     |  __weakref__\n",
      "     |      list of weak references to the object (if defined)\n",
      "\n",
      "FILE\n",
      "    /sfs/gpfs/tardis/home/hl9h/MSDS/DS5100/DS5100-finalproject/montecarlo/montecarlo.py\n",
      "\n",
      "\n"
     ]
    }
   ],
   "source": [
    "# help(montecarlo)\n",
    "help(montecarlo)"
   ]
  },
  {
   "cell_type": "markdown",
   "id": "a9defa84-b395-4966-bd1c-5c6c2bb7ed68",
   "metadata": {},
   "source": [
    "## `README.md` File (3)\n",
    "\n",
    "Provide link to the README.md file of your project's repo.\n",
    "\n",
    "- Metadata section or info present (1).\n",
    "- Synopsis section showing how each class is called (1). (All must be included.)\n",
    "- API section listing all classes and methods (1). (All must be included.)"
   ]
  },
  {
   "cell_type": "markdown",
   "id": "ba154079-b7a4-40b7-87d9-35b5bc8fbcf9",
   "metadata": {},
   "source": [
    "URL: https://github.com/HaiL-DS/DS5100-finalproject/blob/main/README.md"
   ]
  },
  {
   "cell_type": "markdown",
   "id": "108604c8-8827-42ef-ab59-6b25428fc0ca",
   "metadata": {},
   "source": [
    "## Successful installation (2)\n",
    "\n",
    "Put a screenshot or paste a copy of a terminal session where you successfully install your module with pip.\n",
    "\n",
    "If pasting text, use a preformatted text block to show the results.\n",
    "\n",
    "- Installed with `pip` (1).\n",
    "- Successfully installed message appears (1)."
   ]
  },
  {
   "cell_type": "code",
   "execution_count": null,
   "id": "813cfcb8-d067-4637-a730-748d98142ab6",
   "metadata": {},
   "outputs": [],
   "source": [
    "# Pasted code\n",
    "```\n",
    "-bash-4.4$ pip install .\n",
    "Defaulting to user installation because normal site-packages is not writeable\n",
    "Processing /sfs/gpfs/tardis/home/hl9h/MSDS/DS5100/DS5100-finalproject\n",
    "  Preparing metadata (setup.py) ... done\n",
    "Building wheels for collected packages: montecarlo\n",
    "  Building wheel for montecarlo (setup.py) ... done\n",
    "  Created wheel for montecarlo: filename=montecarlo-1.0-py3-none-any.whl size=4549 sha256=5bd87682c530a98a093588f59976dd25ad585e4320082fdb26b55f90b2f7aa2b\n",
    "  Stored in directory: /sfs/gpfs/tardis/home/hl9h/.cache/pip/wheels/04/0c/9e/157caeadb757fb944339774c713d7095a3a7e71633481267a0\n",
    "Successfully built montecarlo\n",
    "Installing collected packages: montecarlo\n",
    "Successfully installed montecarlo-1.0\n",
    "\n",
    "```\n"
   ]
  },
  {
   "cell_type": "markdown",
   "id": "7c44695d-d1b3-4edf-9f94-e64d7446f199",
   "metadata": {},
   "source": [
    "# Scenarios\n",
    "\n",
    "Use code blocks to perform the tasks for each scenario.\n",
    "\n",
    "Be sure the outputs are visible before submitting."
   ]
  },
  {
   "cell_type": "markdown",
   "id": "e2479eae-6fc9-44cd-b8d7-9b22cb501f2a",
   "metadata": {
    "tags": []
   },
   "source": [
    "## Scenario 1: A 2-headed Coin (9)\n",
    "\n",
    "Task 1. Create a fair coin (with faces $H$ and $T$) and one unfair coin in which one of the faces has a weight of $5$ and the others $1$.\n",
    "\n",
    "- Fair coin created (1).\n",
    "- Unfair coin created with weight as specified (1)."
   ]
  },
  {
   "cell_type": "code",
   "execution_count": 7,
   "id": "55ce498e-c75f-4425-9e3e-b635bd6cd9e1",
   "metadata": {},
   "outputs": [],
   "source": [
    "import numpy as np\n",
    "import pandas as pd\n",
    "from montecarlo.montecarlo import Die, Game, Analyzer\n",
    "\n",
    "fair = Die(sides=np.array([\"H\", \"T\"]))\n",
    "unfair = Die(sides=np.array([\"H\", \"T\"]))\n",
    "unfair.change_weight(\"H\", 5)\n"
   ]
  },
  {
   "cell_type": "markdown",
   "id": "02b272ab-99da-4b6e-ac2a-555b73e09c07",
   "metadata": {},
   "source": [
    "Task 2. Play a game of $1000$ flips with two fair dice.\n",
    "\n",
    "- Play method called correclty and without error (1)."
   ]
  },
  {
   "cell_type": "code",
   "execution_count": 8,
   "id": "65c92601-d32d-4326-b215-74953aee27f2",
   "metadata": {},
   "outputs": [],
   "source": [
    "game_2fair = Game([fair, fair])\n",
    "game_2fair.play(1000)\n"
   ]
  },
  {
   "cell_type": "markdown",
   "id": "7d9c3dc8-22c1-4cae-81fb-d68d774a05d1",
   "metadata": {},
   "source": [
    "Task 3. Play another game (using a new Game object) of $1000$ flips, this time using two unfair dice and one fair die. For the second unfair die, you can use the same die object twice in the list of dice you pass to the Game object.\n",
    "\n",
    "- New game object created (1).\n",
    "- Play method called correclty and without error (1)."
   ]
  },
  {
   "cell_type": "code",
   "execution_count": 9,
   "id": "d4098bed-1eb2-4084-8d5e-9fda07c3be43",
   "metadata": {},
   "outputs": [],
   "source": [
    "game_2unfair_1fair = Game([unfair, unfair, fair])\n",
    "game_2unfair_1fair.play(1000)\n"
   ]
  },
  {
   "cell_type": "markdown",
   "id": "f690ebfc-fe71-4eb2-976d-7ac80ca6c23f",
   "metadata": {},
   "source": [
    "Task 4. For each game, use an Analyzer object to determine the raw frequency of jackpots — i.e. getting either all $H$s or all $T$s.\n",
    "\n",
    "- Analyzer objecs instantiated for both games (1).\n",
    "- Raw frequencies reported for both (1)."
   ]
  },
  {
   "cell_type": "code",
   "execution_count": 11,
   "id": "b26b8b7e-3be7-4476-a9a4-37d97536729e",
   "metadata": {},
   "outputs": [
    {
     "name": "stdout",
     "output_type": "stream",
     "text": [
      "The raw frequency of jackpots for a game of 1000 flips with two fair dice: 481.\n",
      "The raw frequency of jackpots for a game of 1000 flips with two unfair dice and one fair die: 356.\n"
     ]
    }
   ],
   "source": [
    "analyzer_2fair = Analyzer(game_2fair)\n",
    "analyzer_2unfair_1fair = Analyzer(game_2unfair_1fair)\n",
    "\n",
    "print(f\"The raw frequency of jackpots for a game of 1000 flips with two fair dice: \\\n",
    "     {analyzer_2fair.jackpot()}.\" )\n",
    "\n",
    "print(f\"The raw frequency of jackpots for a game of 1000 flips with two unfair dice and one fair die: \\\n",
    "     {analyzer_2unfair_1fair.jackpot()}.\" )\n"
   ]
  },
  {
   "cell_type": "markdown",
   "id": "b73d233c-445e-40cd-8858-0c5e1f097105",
   "metadata": {},
   "source": [
    "Task 5. For each analyzer, compute relative frequency as the number of jackpots over the total number of rolls.\n",
    "\n",
    "- Both relative frequencies computed (1)."
   ]
  },
  {
   "cell_type": "code",
   "execution_count": 12,
   "id": "9a96b31b-1b9d-496e-be3e-4bf83c45ec3a",
   "metadata": {},
   "outputs": [
    {
     "name": "stdout",
     "output_type": "stream",
     "text": [
      "The relative frequency of jackpots for a game of 1000 flips with two fair dice: 0.481.\n",
      "The relative frequency of jackpots for a game of 1000 flips with two unfair dice and one fair die: 0.356.\n"
     ]
    }
   ],
   "source": [
    "print(f\"The relative frequency of jackpots for a game of 1000 flips with two fair dice: \\\n",
    "     {analyzer_2fair.jackpot()/1000}.\" )\n",
    "\n",
    "print(f\"The relative frequency of jackpots for a game of 1000 flips with two unfair dice and one fair die: \\\n",
    "     {analyzer_2unfair_1fair.jackpot()/1000}.\" )\n"
   ]
  },
  {
   "cell_type": "markdown",
   "id": "a6e1e734-7f5c-4721-8ba4-2f3a424cf984",
   "metadata": {},
   "source": [
    "Task 6. Show your results, comparing the two relative frequencies, in a simple bar chart.\n",
    "\n",
    "- Bar chart plotted and correct (1)."
   ]
  },
  {
   "cell_type": "code",
   "execution_count": 19,
   "id": "473fa67c-aa53-4aa3-a0b7-e8772b3f6ed3",
   "metadata": {},
   "outputs": [
    {
     "data": {
      "text/plain": [
       "<Axes: xlabel='Game'>"
      ]
     },
     "execution_count": 19,
     "metadata": {},
     "output_type": "execute_result"
    },
    {
     "data": {
      "image/png": "[encoded data removed]",
      "text/plain": [
       "<Figure size 640x480 with 1 Axes>"
      ]
     },
     "metadata": {},
     "output_type": "display_data"
    }
   ],
   "source": [
    "compares = pd.DataFrame({\"Game\": ['2Fairs', '2Unfairs+1Fair'],\"Relative Freq.\": \\\n",
    "                         [analyzer_2fair.jackpot()/1000, analyzer_2unfair_1fair.jackpot()/1000]}).set_index(\"Game\")\n",
    "\n",
    "compares[\"Relative Freq.\"].plot.bar()\n"
   ]
  },
  {
   "cell_type": "markdown",
   "id": "725cfa5b-e4b7-47c9-86aa-8d9e1fe6c8c7",
   "metadata": {},
   "source": [
    "## Scenario 2: A 6-sided Die (9)\n",
    "\n",
    "Task 1. Create three dice, each with six sides having the faces 1 through 6.\n",
    "\n",
    "- Three die objects created (1)."
   ]
  },
  {
   "cell_type": "code",
   "execution_count": 24,
   "id": "6a8bc611-325a-4e05-88d5-980e0a2cf7c5",
   "metadata": {},
   "outputs": [
    {
     "data": {
      "text/html": [
       "<div>\n",
       "<style scoped>\n",
       "    .dataframe tbody tr th:only-of-type {\n",
       "        vertical-align: middle;\n",
       "    }\n",
       "\n",
       "    .dataframe tbody tr th {\n",
       "        vertical-align: top;\n",
       "    }\n",
       "\n",
       "    .dataframe thead th {\n",
       "        text-align: right;\n",
       "    }\n",
       "</style>\n",
       "<table border=\"1\" class=\"dataframe\">\n",
       "  <thead>\n",
       "    <tr style=\"text-align: right;\">\n",
       "      <th></th>\n",
       "      <th>weights</th>\n",
       "    </tr>\n",
       "    <tr>\n",
       "      <th>sides</th>\n",
       "      <th></th>\n",
       "    </tr>\n",
       "  </thead>\n",
       "  <tbody>\n",
       "    <tr>\n",
       "      <th>1</th>\n",
       "      <td>1.0</td>\n",
       "    </tr>\n",
       "    <tr>\n",
       "      <th>2</th>\n",
       "      <td>1.0</td>\n",
       "    </tr>\n",
       "    <tr>\n",
       "      <th>3</th>\n",
       "      <td>1.0</td>\n",
       "    </tr>\n",
       "    <tr>\n",
       "      <th>4</th>\n",
       "      <td>1.0</td>\n",
       "    </tr>\n",
       "    <tr>\n",
       "      <th>5</th>\n",
       "      <td>1.0</td>\n",
       "    </tr>\n",
       "    <tr>\n",
       "      <th>6</th>\n",
       "      <td>1.0</td>\n",
       "    </tr>\n",
       "  </tbody>\n",
       "</table>\n",
       "</div>"
      ],
      "text/plain": [
       "       weights\n",
       "sides         \n",
       "1          1.0\n",
       "2          1.0\n",
       "3          1.0\n",
       "4          1.0\n",
       "5          1.0\n",
       "6          1.0"
      ]
     },
     "execution_count": 24,
     "metadata": {},
     "output_type": "execute_result"
    }
   ],
   "source": [
    "die1 = Die()  # by default, the Die object is created with faces 1 through 6\n",
    "die2 = Die()\n",
    "die3 = Die()\n",
    "\n",
    "die1.die"
   ]
  },
  {
   "cell_type": "markdown",
   "id": "2ed3ad26-fbe9-43bd-9ad7-f683a4191d12",
   "metadata": {},
   "source": [
    "Task 2. Convert one of the dice to an unfair one by weighting the face $6$ five times more than the other weights (i.e. it has weight of 5 and the others a weight of 1 each).\n",
    "\n",
    "- Unfair die created with proper call to weight change method (1)."
   ]
  },
  {
   "cell_type": "code",
   "execution_count": 25,
   "id": "e33dd18f-7f90-456d-a680-61c08a328e21",
   "metadata": {},
   "outputs": [
    {
     "data": {
      "text/html": [
       "<div>\n",
       "<style scoped>\n",
       "    .dataframe tbody tr th:only-of-type {\n",
       "        vertical-align: middle;\n",
       "    }\n",
       "\n",
       "    .dataframe tbody tr th {\n",
       "        vertical-align: top;\n",
       "    }\n",
       "\n",
       "    .dataframe thead th {\n",
       "        text-align: right;\n",
       "    }\n",
       "</style>\n",
       "<table border=\"1\" class=\"dataframe\">\n",
       "  <thead>\n",
       "    <tr style=\"text-align: right;\">\n",
       "      <th></th>\n",
       "      <th>weights</th>\n",
       "    </tr>\n",
       "    <tr>\n",
       "      <th>sides</th>\n",
       "      <th></th>\n",
       "    </tr>\n",
       "  </thead>\n",
       "  <tbody>\n",
       "    <tr>\n",
       "      <th>1</th>\n",
       "      <td>1.0</td>\n",
       "    </tr>\n",
       "    <tr>\n",
       "      <th>2</th>\n",
       "      <td>1.0</td>\n",
       "    </tr>\n",
       "    <tr>\n",
       "      <th>3</th>\n",
       "      <td>1.0</td>\n",
       "    </tr>\n",
       "    <tr>\n",
       "      <th>4</th>\n",
       "      <td>1.0</td>\n",
       "    </tr>\n",
       "    <tr>\n",
       "      <th>5</th>\n",
       "      <td>1.0</td>\n",
       "    </tr>\n",
       "    <tr>\n",
       "      <th>6</th>\n",
       "      <td>5.0</td>\n",
       "    </tr>\n",
       "  </tbody>\n",
       "</table>\n",
       "</div>"
      ],
      "text/plain": [
       "       weights\n",
       "sides         \n",
       "1          1.0\n",
       "2          1.0\n",
       "3          1.0\n",
       "4          1.0\n",
       "5          1.0\n",
       "6          5.0"
      ]
     },
     "execution_count": 25,
     "metadata": {},
     "output_type": "execute_result"
    }
   ],
   "source": [
    "die3.change_weight(6, 5)  #convert die3 to an unfair die at face6\n",
    "\n",
    "die3.die"
   ]
  },
  {
   "cell_type": "markdown",
   "id": "7f6c062a-4c5b-45b9-96b8-76a0354c7e47",
   "metadata": {},
   "source": [
    "Task 3. Convert another of the dice to be unfair by weighting the face $1$ five times more than the others.\n",
    "\n",
    "- Unfair die created with proper call to weight change method (1)."
   ]
  },
  {
   "cell_type": "code",
   "execution_count": 26,
   "id": "01133a4e-6b06-4246-8d90-8e6d6995be51",
   "metadata": {},
   "outputs": [
    {
     "data": {
      "text/html": [
       "<div>\n",
       "<style scoped>\n",
       "    .dataframe tbody tr th:only-of-type {\n",
       "        vertical-align: middle;\n",
       "    }\n",
       "\n",
       "    .dataframe tbody tr th {\n",
       "        vertical-align: top;\n",
       "    }\n",
       "\n",
       "    .dataframe thead th {\n",
       "        text-align: right;\n",
       "    }\n",
       "</style>\n",
       "<table border=\"1\" class=\"dataframe\">\n",
       "  <thead>\n",
       "    <tr style=\"text-align: right;\">\n",
       "      <th></th>\n",
       "      <th>weights</th>\n",
       "    </tr>\n",
       "    <tr>\n",
       "      <th>sides</th>\n",
       "      <th></th>\n",
       "    </tr>\n",
       "  </thead>\n",
       "  <tbody>\n",
       "    <tr>\n",
       "      <th>1</th>\n",
       "      <td>5.0</td>\n",
       "    </tr>\n",
       "    <tr>\n",
       "      <th>2</th>\n",
       "      <td>1.0</td>\n",
       "    </tr>\n",
       "    <tr>\n",
       "      <th>3</th>\n",
       "      <td>1.0</td>\n",
       "    </tr>\n",
       "    <tr>\n",
       "      <th>4</th>\n",
       "      <td>1.0</td>\n",
       "    </tr>\n",
       "    <tr>\n",
       "      <th>5</th>\n",
       "      <td>1.0</td>\n",
       "    </tr>\n",
       "    <tr>\n",
       "      <th>6</th>\n",
       "      <td>1.0</td>\n",
       "    </tr>\n",
       "  </tbody>\n",
       "</table>\n",
       "</div>"
      ],
      "text/plain": [
       "       weights\n",
       "sides         \n",
       "1          5.0\n",
       "2          1.0\n",
       "3          1.0\n",
       "4          1.0\n",
       "5          1.0\n",
       "6          1.0"
      ]
     },
     "execution_count": 26,
     "metadata": {},
     "output_type": "execute_result"
    }
   ],
   "source": [
    "die2.change_weight(1, 5)  #convert die2 to an unfair die at face1\n",
    "\n",
    "die2.die"
   ]
  },
  {
   "cell_type": "markdown",
   "id": "f0ed31cb-0a3c-4eb2-b85e-6ed6b2eb6e58",
   "metadata": {},
   "source": [
    "Task 4. Play a game of $10000$ rolls with $5$ fair dice.\n",
    "\n",
    "- Game class properly instantiated (1). \n",
    "- Play method called properly (1)."
   ]
  },
  {
   "cell_type": "code",
   "execution_count": 27,
   "id": "e92395a4-9ed8-4cb0-8c85-38768a784ffc",
   "metadata": {},
   "outputs": [],
   "source": [
    "game_5fair = Game([die1, die1, die1, die1, die1])\n",
    "game_5fair.play(10000)\n"
   ]
  },
  {
   "cell_type": "markdown",
   "id": "7814b402-46a4-40e5-8141-20e05c3e646b",
   "metadata": {},
   "source": [
    "Task 5. Play another game of $10000$ rolls, this time with $2$ unfair dice, one as defined in steps #2 and #3 respectively, and $3$ fair dice.\n",
    "\n",
    "- Game class properly instantiated (1). \n",
    "- Play method called properly (1)."
   ]
  },
  {
   "cell_type": "code",
   "execution_count": 28,
   "id": "7cd58fba-b2a5-4d5d-bc6d-2a7a68d18c4f",
   "metadata": {},
   "outputs": [],
   "source": [
    "game_3fair2unfair = Game([die3, die2, die1, die1, die1])\n",
    "game_3fair2unfair.play(10000)\n"
   ]
  },
  {
   "cell_type": "markdown",
   "id": "7b6cd372-2bb8-4df8-ade1-8f48bc300955",
   "metadata": {},
   "source": [
    "Task 6. For each game, use an Analyzer object to determine the relative frequency of jackpots and show your results, comparing the two relative frequencies, in a simple bar chart.\n",
    "\n",
    "- Jackpot methods called (1).\n",
    "- Graph produced (1)."
   ]
  },
  {
   "cell_type": "code",
   "execution_count": 30,
   "id": "bbdcf695-8937-406e-9b53-aa0b9ee3c59a",
   "metadata": {},
   "outputs": [
    {
     "data": {
      "text/plain": [
       "<Axes: xlabel='Game'>"
      ]
     },
     "execution_count": 30,
     "metadata": {},
     "output_type": "execute_result"
    },
    {
     "data": {
      "image/png": "[encoded data removed]",
      "text/plain": [
       "<Figure size 640x480 with 1 Axes>"
      ]
     },
     "metadata": {},
     "output_type": "display_data"
    }
   ],
   "source": [
    "analyzer_5fair = Analyzer(game_5fair)\n",
    "analyzer_3fair2unfair = Analyzer(game_3fair2unfair)\n",
    "\n",
    "compares2 = pd.DataFrame({\"Game\": ['5Fairs', '2Unfairs+3Fairs'],\"Relative Freq.\": \\\n",
    "                          [analyzer_5fair.jackpot()/1000, analyzer_3fair2unfair.jackpot()/1000]}).set_index(\"Game\")\n",
    "\n",
    "compares2[\"Relative Freq.\"].plot.bar()\n"
   ]
  },
  {
   "cell_type": "markdown",
   "id": "9f04e9be-8fcf-4ea4-a391-6614608285f8",
   "metadata": {},
   "source": [
    "## Scenario 3: Letters of the Alphabet (7)\n",
    "\n",
    "Task 1. Create a \"die\" of letters from $A$ to $Z$ with weights based on their frequency of usage as found in the data file `english_letters.txt`. Use the frequencies (i.e. raw counts) as weights.\n",
    "\n",
    "- Die correctly instantiated with source file data (1).\n",
    "- Weights properly applied using weight setting method (1)."
   ]
  },
  {
   "cell_type": "code",
   "execution_count": 39,
   "id": "b0ceb771-3cdf-4d8f-8c2c-020806bbb909",
   "metadata": {},
   "outputs": [
    {
     "data": {
      "text/html": [
       "<div>\n",
       "<style scoped>\n",
       "    .dataframe tbody tr th:only-of-type {\n",
       "        vertical-align: middle;\n",
       "    }\n",
       "\n",
       "    .dataframe tbody tr th {\n",
       "        vertical-align: top;\n",
       "    }\n",
       "\n",
       "    .dataframe thead th {\n",
       "        text-align: right;\n",
       "    }\n",
       "</style>\n",
       "<table border=\"1\" class=\"dataframe\">\n",
       "  <thead>\n",
       "    <tr style=\"text-align: right;\">\n",
       "      <th></th>\n",
       "      <th>weights</th>\n",
       "    </tr>\n",
       "    <tr>\n",
       "      <th>sides</th>\n",
       "      <th></th>\n",
       "    </tr>\n",
       "  </thead>\n",
       "  <tbody>\n",
       "    <tr>\n",
       "      <th>A</th>\n",
       "      <td>374061888.0</td>\n",
       "    </tr>\n",
       "    <tr>\n",
       "      <th>B</th>\n",
       "      <td>70195826.0</td>\n",
       "    </tr>\n",
       "    <tr>\n",
       "      <th>C</th>\n",
       "      <td>138416451.0</td>\n",
       "    </tr>\n",
       "    <tr>\n",
       "      <th>D</th>\n",
       "      <td>169330528.0</td>\n",
       "    </tr>\n",
       "    <tr>\n",
       "      <th>E</th>\n",
       "      <td>529117365.0</td>\n",
       "    </tr>\n",
       "    <tr>\n",
       "      <th>F</th>\n",
       "      <td>95422055.0</td>\n",
       "    </tr>\n",
       "    <tr>\n",
       "      <th>G</th>\n",
       "      <td>91258980.0</td>\n",
       "    </tr>\n",
       "    <tr>\n",
       "      <th>H</th>\n",
       "      <td>216768975.0</td>\n",
       "    </tr>\n",
       "    <tr>\n",
       "      <th>I</th>\n",
       "      <td>320410057.0</td>\n",
       "    </tr>\n",
       "    <tr>\n",
       "      <th>J</th>\n",
       "      <td>9613410.0</td>\n",
       "    </tr>\n",
       "    <tr>\n",
       "      <th>K</th>\n",
       "      <td>35373464.0</td>\n",
       "    </tr>\n",
       "    <tr>\n",
       "      <th>L</th>\n",
       "      <td>183996130.0</td>\n",
       "    </tr>\n",
       "    <tr>\n",
       "      <th>M</th>\n",
       "      <td>110504544.0</td>\n",
       "    </tr>\n",
       "    <tr>\n",
       "      <th>N</th>\n",
       "      <td>313720540.0</td>\n",
       "    </tr>\n",
       "    <tr>\n",
       "      <th>O</th>\n",
       "      <td>326627740.0</td>\n",
       "    </tr>\n",
       "    <tr>\n",
       "      <th>P</th>\n",
       "      <td>90376747.0</td>\n",
       "    </tr>\n",
       "    <tr>\n",
       "      <th>Q</th>\n",
       "      <td>4550166.0</td>\n",
       "    </tr>\n",
       "    <tr>\n",
       "      <th>R</th>\n",
       "      <td>277000841.0</td>\n",
       "    </tr>\n",
       "    <tr>\n",
       "      <th>S</th>\n",
       "      <td>294300210.0</td>\n",
       "    </tr>\n",
       "    <tr>\n",
       "      <th>T</th>\n",
       "      <td>390965105.0</td>\n",
       "    </tr>\n",
       "    <tr>\n",
       "      <th>U</th>\n",
       "      <td>117295780.0</td>\n",
       "    </tr>\n",
       "    <tr>\n",
       "      <th>V</th>\n",
       "      <td>46337161.0</td>\n",
       "    </tr>\n",
       "    <tr>\n",
       "      <th>W</th>\n",
       "      <td>79843664.0</td>\n",
       "    </tr>\n",
       "    <tr>\n",
       "      <th>X</th>\n",
       "      <td>8369915.0</td>\n",
       "    </tr>\n",
       "    <tr>\n",
       "      <th>Y</th>\n",
       "      <td>75294515.0</td>\n",
       "    </tr>\n",
       "    <tr>\n",
       "      <th>Z</th>\n",
       "      <td>4975847.0</td>\n",
       "    </tr>\n",
       "  </tbody>\n",
       "</table>\n",
       "</div>"
      ],
      "text/plain": [
       "           weights\n",
       "sides             \n",
       "A      374061888.0\n",
       "B       70195826.0\n",
       "C      138416451.0\n",
       "D      169330528.0\n",
       "E      529117365.0\n",
       "F       95422055.0\n",
       "G       91258980.0\n",
       "H      216768975.0\n",
       "I      320410057.0\n",
       "J        9613410.0\n",
       "K       35373464.0\n",
       "L      183996130.0\n",
       "M      110504544.0\n",
       "N      313720540.0\n",
       "O      326627740.0\n",
       "P       90376747.0\n",
       "Q        4550166.0\n",
       "R      277000841.0\n",
       "S      294300210.0\n",
       "T      390965105.0\n",
       "U      117295780.0\n",
       "V       46337161.0\n",
       "W       79843664.0\n",
       "X        8369915.0\n",
       "Y       75294515.0\n",
       "Z        4975847.0"
      ]
     },
     "execution_count": 39,
     "metadata": {},
     "output_type": "execute_result"
    }
   ],
   "source": [
    "alphabet = [chr(i) for i in range(65, 91)]  #get all the faces/sides of the \"die\"\n",
    "\n",
    "letter_wts = pd.read_csv('english_letters.txt', header = None, sep =' ' )   #get the data frame for weights\n",
    "letter_wts.columns = [\"Letter\", \"Weight\"]\n",
    "\n",
    "letter_die = Die(np.array(alphabet))  #instantiate the Die object\n",
    "\n",
    "for face in letter_die.die.index:   #set die weights for each face/side\n",
    "    letter_die.change_weight(face, int(letter_wts.loc[letter_wts.Letter == face, 'Weight'].iloc[0]))\n",
    "    \n",
    "letter_die.die  #check on the die\n"
   ]
  },
  {
   "cell_type": "markdown",
   "id": "88e2e14a-6223-470a-a2c8-bca1120d7a5b",
   "metadata": {},
   "source": [
    "Task 2. Play a game involving $4$ of these dice with $1000$ rolls.\n",
    "\n",
    "- Game play method properly called (1)."
   ]
  },
  {
   "cell_type": "code",
   "execution_count": 42,
   "id": "2ae087cc-936d-4f1e-bddb-a7c179d139e0",
   "metadata": {},
   "outputs": [],
   "source": [
    "game_4letterdice = Game([letter_die, letter_die, letter_die, letter_die])\n",
    "game_4letterdice.play(1000)\n"
   ]
  },
  {
   "cell_type": "markdown",
   "id": "3b9ff800-bf1f-4f66-9d7f-ff57a648e9f0",
   "metadata": {},
   "source": [
    "Task 3. Determine how many permutations in your results are actual English words, based on the vocabulary found in `scrabble_words.txt`.\n",
    "\n",
    "- Use permutation method (1).\n",
    "- Get count as difference between permutations and vocabulary (1)."
   ]
  },
  {
   "cell_type": "code",
   "execution_count": 50,
   "id": "ed1c7fa0-cfa3-4cf4-9fd0-9f84b86b0f64",
   "metadata": {},
   "outputs": [
    {
     "name": "stdout",
     "output_type": "stream",
     "text": [
      "Out of 989 permutations in my results, there are 47 actual English words,\n",
      " based on the comparision to a vocabulary with a size of 279496.\n"
     ]
    }
   ],
   "source": [
    "with open(\"scrabble_words.txt\", 'r') as words:\n",
    "    vocabulary = [word.strip() for word in words.readlines()]   #generate a list of vocabulary\n",
    "\n",
    "analyzer_4letterdice = Analyzer(game_4letterdice)  #instantiate the Analyzer object\n",
    "\n",
    "permutations = analyzer_4letterdice.permu_count()  #get the permutations and turn them into a list \n",
    "permu_list = []\n",
    "for p in permutations.index:\n",
    "    permu_list.append(\"\".join(p))\n",
    "\n",
    "word_matches = set(permu_list).intersection(set(vocabulary))  #find word matches in the vocabulary\n",
    "\n",
    "print(f\"Out of {len(permu_list)} permutations in my results, there are {len(word_matches)} actual English words,\\n \\\n",
    "      based on the comparision with a vocabulary with a size of {len(vocabulary)}.\")\n"
   ]
  },
  {
   "cell_type": "markdown",
   "id": "fcf068cf-381a-4b3e-ac3a-0510eb4dbdb0",
   "metadata": {},
   "source": [
    "Task 4. Repeat steps #2 and #3, this time with $5$ dice. How many actual words does this produce? Which produces more?\n",
    "\n",
    "- Successfully repreats steps (1).\n",
    "- Identifies parameter with most found words (1)."
   ]
  },
  {
   "cell_type": "code",
   "execution_count": 51,
   "id": "b05e4a85-38c5-480c-ba8c-86a9d729e885",
   "metadata": {
    "tags": []
   },
   "outputs": [
    {
     "name": "stdout",
     "output_type": "stream",
     "text": [
      "Out of 1000 permutations in my results with 5 dice, there are 5 actual English words,\n",
      " based on the comparision to a vocabulary with a size of 279496.\n"
     ]
    }
   ],
   "source": [
    "game_5letterdice = Game([letter_die, letter_die, letter_die, letter_die, letter_die])\n",
    "game_5letterdice.play(1000)\n",
    "\n",
    "analyzer_5letterdice = Analyzer(game_5letterdice)  #instantiate the Analyzer object\n",
    "\n",
    "permutations_5dice = analyzer_5letterdice.permu_count()  #get the permutations and turn them into a list \n",
    "permu_list_5dice = []\n",
    "for p in permutations_5dice.index:\n",
    "    permu_list_5dice.append(\"\".join(p))\n",
    "\n",
    "word_matches_5dice = set(permu_list_5dice).intersection(set(vocabulary))  #find word matches in the vocabulary\n",
    "\n",
    "print(f\"Out of {len(permu_list_5dice)} permutations in my results with 5 dice, there are {len(word_matches_5dice)} actual English words,\\n \\\n",
    "based on the comparision with a vocabulary with a size of {len(vocabulary)}.\")\n"
   ]
  },
  {
   "cell_type": "code",
   "execution_count": null,
   "id": "d313d3ee-efd4-426a-883a-46e542c5fd66",
   "metadata": {},
   "outputs": [],
   "source": [
    "# The game with 4 dice actually produced more words than that with 5 dice."
   ]
  }
 ],
 "metadata": {
  "kernelspec": {
   "display_name": "Python 3 (ipykernel)",
   "language": "python",
   "name": "python3"
  },
  "language_info": {
   "codemirror_mode": {
    "name": "ipython",
    "version": 3
   },
   "file_extension": ".py",
   "mimetype": "text/x-python",
   "name": "python",
   "nbconvert_exporter": "python",
   "pygments_lexer": "ipython3",
   "version": "3.11.4"
  },
  "toc-autonumbering": true,
  "widgets": {
   "application/vnd.jupyter.widget-state+json": {
    "state": {},
    "version_major": 2,
    "version_minor": 0
   }
  }
 },
 "nbformat": 4,
 "nbformat_minor": 5
}
